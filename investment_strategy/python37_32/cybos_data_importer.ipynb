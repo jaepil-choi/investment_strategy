{
 "cells": [
  {
   "cell_type": "code",
   "execution_count": 1,
   "metadata": {},
   "outputs": [],
   "source": [
    "# -*- coding: utf-8 -*-"
   ]
  },
  {
   "cell_type": "markdown",
   "metadata": {},
   "source": [
    "# 대신증권 CYBOS API에서 데이터 가져오기\n",
    "\n",
    "`python 37-32bit`\n",
    "\n",
    "conda 등의 interpreter가 Admin으로 실행되어야. \n",
    "\n",
    "Cybos는 Windows에서 돌릴 시 region settings나 font에 따라 한글이 깨지기도 함. \n",
    "\n",
    "`Control Panel > Region > Administrative > Language for non-Unicode programs`에서 `Korean(Korea) & uncheck Beta: Use Unicode UTF-8 for worldwide language support` 선택"
   ]
  },
  {
   "cell_type": "code",
   "execution_count": 60,
   "metadata": {},
   "outputs": [
    {
     "data": {
      "text/plain": [
       "('32bit', 'WindowsPE')"
      ]
     },
     "execution_count": 60,
     "metadata": {},
     "output_type": "execute_result"
    }
   ],
   "source": [
    "import platform\n",
    "platform.architecture()"
   ]
  },
  {
   "cell_type": "code",
   "execution_count": 88,
   "metadata": {},
   "outputs": [],
   "source": [
    "import win32com.client\n",
    "\n",
    "import pandas as pd\n",
    "import numpy as np\n",
    "import matplotlib.pyplot as plt\n",
    "\n",
    "from datetime import date\n",
    "import re"
   ]
  },
  {
   "cell_type": "markdown",
   "metadata": {},
   "source": [
    "## 연결 확인"
   ]
  },
  {
   "cell_type": "code",
   "execution_count": 62,
   "metadata": {},
   "outputs": [
    {
     "data": {
      "text/plain": [
       "1"
      ]
     },
     "execution_count": 62,
     "metadata": {},
     "output_type": "execute_result"
    }
   ],
   "source": [
    "instCpCybos = win32com.client.Dispatch('CpUtil.CpCybos')\n",
    "instCpCybos.IsConnect"
   ]
  },
  {
   "cell_type": "code",
   "execution_count": 63,
   "metadata": {},
   "outputs": [
    {
     "data": {
      "text/plain": [
       "2"
      ]
     },
     "execution_count": 63,
     "metadata": {},
     "output_type": "execute_result"
    }
   ],
   "source": [
    "instCpCybos.ServerType"
   ]
  },
  {
   "cell_type": "markdown",
   "metadata": {},
   "source": [
    "## 종목코드 반환: 분류별"
   ]
  },
  {
   "cell_type": "code",
   "execution_count": 64,
   "metadata": {},
   "outputs": [],
   "source": [
    "instCpCodeMgr = win32com.client.Dispatch(\"CpUtil.CpCodeMgr\")"
   ]
  },
  {
   "cell_type": "code",
   "execution_count": 65,
   "metadata": {},
   "outputs": [],
   "source": [
    "kospi_ticker_list = instCpCodeMgr.GetStockListByMarket(1)\n",
    "kosdaq_ticker_list = instCpCodeMgr.GetStockListByMarket(2)"
   ]
  },
  {
   "cell_type": "code",
   "execution_count": 66,
   "metadata": {},
   "outputs": [
    {
     "data": {
      "text/plain": [
       "('A000020',\n",
       " 'A000040',\n",
       " 'A000050',\n",
       " 'A000060',\n",
       " 'A000070',\n",
       " 'A000075',\n",
       " 'A000080',\n",
       " 'A000087',\n",
       " 'A000100',\n",
       " 'A000105')"
      ]
     },
     "execution_count": 66,
     "metadata": {},
     "output_type": "execute_result"
    }
   ],
   "source": [
    "kospi_ticker_list[:10]"
   ]
  },
  {
   "cell_type": "code",
   "execution_count": 67,
   "metadata": {},
   "outputs": [],
   "source": [
    "def stock_ticker2name(ticker):\n",
    "    \"\"\"Convert ticker code to comapny name. \n",
    "    \n",
    "    Args: \n",
    "        ticker (str): The company's ticker code.\n",
    "        \n",
    "    Returns:\n",
    "        str.\n",
    "        The company's name.\n",
    "    \n",
    "    \"\"\"\n",
    "    name = instCpCodeMgr.CodeToName(ticker)\n",
    "    return name"
   ]
  },
  {
   "cell_type": "code",
   "execution_count": 68,
   "metadata": {},
   "outputs": [
    {
     "data": {
      "text/plain": [
       "'삼성전자'"
      ]
     },
     "execution_count": 68,
     "metadata": {},
     "output_type": "execute_result"
    }
   ],
   "source": [
    "stock_ticker2name('A005930')"
   ]
  },
  {
   "cell_type": "markdown",
   "metadata": {},
   "source": [
    "## 종목코드 반환: 회사명"
   ]
  },
  {
   "cell_type": "code",
   "execution_count": 69,
   "metadata": {},
   "outputs": [],
   "source": [
    "instCpStockCode = win32com.client.Dispatch(\"CpUtil.CpStockCode\")"
   ]
  },
  {
   "cell_type": "code",
   "execution_count": 70,
   "metadata": {},
   "outputs": [],
   "source": [
    "def stock_name2ticker(name):\n",
    "    \"\"\"Convert company name to ticker code. \n",
    "    \n",
    "    Args: \n",
    "        name (str): The company's name.\n",
    "        \n",
    "    Returns:\n",
    "        str.\n",
    "        The company's ticker code.\n",
    "    \n",
    "    \"\"\"\n",
    "    ticker = instCpStockCode.NameToCode(name)\n",
    "    if ticker == '':\n",
    "        return None\n",
    "    else:\n",
    "        return ticker"
   ]
  },
  {
   "cell_type": "code",
   "execution_count": 71,
   "metadata": {},
   "outputs": [
    {
     "data": {
      "text/plain": [
       "'A005930'"
      ]
     },
     "execution_count": 71,
     "metadata": {},
     "output_type": "execute_result"
    }
   ],
   "source": [
    "stock_name2ticker('삼성전자')"
   ]
  },
  {
   "cell_type": "markdown",
   "metadata": {},
   "source": [
    "## 종목의 주가 데이터 반환"
   ]
  },
  {
   "cell_type": "code",
   "execution_count": 72,
   "metadata": {},
   "outputs": [],
   "source": [
    "instStockChart = win32com.client.Dispatch('CpSysDib.StockChart')"
   ]
  },
  {
   "cell_type": "code",
   "execution_count": 73,
   "metadata": {},
   "outputs": [
    {
     "data": {
      "text/plain": [
       "'20200403'"
      ]
     },
     "execution_count": 73,
     "metadata": {},
     "output_type": "execute_result"
    }
   ],
   "source": [
    "today = date.today().strftime('%Y%m%d')\n",
    "today"
   ]
  },
  {
   "cell_type": "code",
   "execution_count": 74,
   "metadata": {},
   "outputs": [],
   "source": [
    "data_columns_cipher = {\n",
    "    0: 'date', # 날짜\n",
    "    1: 'time', # 시간\n",
    "    2: 'open', # 시가\n",
    "    3: 'high', # 고가\n",
    "    4: 'low', # 저가\n",
    "    5: 'close', # 종가\n",
    "    6: 'pct_change', # 전일대비\n",
    "    8: 'volume', # 거래량\n",
    "    9: 'trading_volume', # 거래대금\n",
    "    10: 'cum_filled_vol_sold', # 누적체결매도수량 -호가비교방식누적체결매도수량\n",
    "    11: 'cum_filled_vol_bought', # 누적체결매수수량 -호가비교방식누적체결매수수량\n",
    "    12: 'outstanding_shares', # 상장주식수\n",
    "    13: 'market_cap', # 시가총액\n",
    "    14: 'foreigner_order_limit1', # 외국인주문한도수량\n",
    "    15: 'foreigner_order_limit2', # 외국인주문가능수량\n",
    "    16: 'foreigner_position', # 외국인현보유수량\n",
    "    17: 'foreigner_position_ratio', # 외국인현보유비율\n",
    "    18: 'adj_date', # 수정주가일자 - YYYYMMDD\n",
    "    19: 'adj_price_ratio', # 수정주가비율\n",
    "    20: 'inst_net_buy', # 기관순매수\n",
    "    21: 'inst_cum_net_buy', # 기관누적순매수\n",
    "    22: 'adv_dec_line', # 등락주선 (advance-decline line)\n",
    "    23: 'adv_dec_ratio', # 등락비율 (advance decline ratio)\n",
    "    24: 'deposit', # 예탁금\n",
    "    25: 'turnover', # 주식회전율\n",
    "    26: 'deals_ratio', # 거래성립률(ratio of deals) \n",
    "    37: 'change_plus_minus', # 대비부호\n",
    "}\n"
   ]
  },
  {
   "cell_type": "markdown",
   "metadata": {},
   "source": [
    "<h3 style='color:red;'>TODO: W(주), M(월) 고치기</h3>"
   ]
  },
  {
   "cell_type": "code",
   "execution_count": 126,
   "metadata": {},
   "outputs": [],
   "source": [
    "def get_ohlcv(company, end_date=today, verbose=False, **kwargs):\n",
    "    \"\"\"Get ohlcv price data of a stock. \n",
    "    \n",
    "    If \"time_interval\" is 'D'(day), 'W'(week), or 'M'(month) \"time\" is ignored from the \"datetime\" column.\n",
    "    \n",
    "    Args: \n",
    "        company (str): The stock's name or ticker code.\n",
    "        end_date (str): YYYYmmdd formatted date. \n",
    "    \n",
    "    Kwargs:\n",
    "        data_size (int): The number of data(rows) requested to the API. Default=1000\n",
    "        data_columns (list): List of columns to retrieve. Default=[0, 1, 2, 3, 4, 5, 8] (date + time+ ohlcv)\n",
    "            0:날짜(ulong) # Always include date.\n",
    "            1:시간(long) - hhmm # Always include time.\n",
    "            2:시가(long or float)\n",
    "            3:고가(long or float)\n",
    "            4:저가(long or float)\n",
    "            5:종가(long or float)\n",
    "            6:전일대비(long or float) - 주) 대비부호(37)과반드시같이요청해야함\n",
    "            8:거래량(ulong or ulonglong)주) 정밀도만원단위\n",
    "            9:거래대금(ulonglong)\n",
    "            10:누적체결매도수량(ulong or ulonglong) -호가비교방식누적체결매도수량\n",
    "            11:누적체결매수수량(ulong or ulonglong) -호가비교방식누적체결매수수량\n",
    "             (주) 10, 11 필드는분,틱요청일때만제공\n",
    "            12:상장주식수(ulonglong)\n",
    "            13:시가총액(ulonglong)\n",
    "            14:외국인주문한도수량(ulong)\n",
    "            15:외국인주문가능수량(ulong)\n",
    "            16:외국인현보유수량(ulong)\n",
    "            17:외국인현보유비율(float)\n",
    "            18:수정주가일자(ulong) - YYYYMMDD\n",
    "            19:수정주가비율(float)\n",
    "            20:기관순매수(long)\n",
    "            21:기관누적순매수(long)\n",
    "            22:등락주선(long)\n",
    "            23:등락비율(float)\n",
    "            24:예탁금(ulonglong)\n",
    "            25:주식회전율(float)\n",
    "            26:거래성립률(float)\n",
    "            37:대비부호(char) - 수신값은 GetHeaderValue 8 대비부호와동일\n",
    "        time_interval (str): Chart interval to use. Default='D'\n",
    "            'D': 일\n",
    "            'W': 주\n",
    "            'M': 월\n",
    "            'm': 분\n",
    "            'T': 틱\n",
    "\n",
    "    Returns:\n",
    "        (pandas dataframe) Price data dataframe. \n",
    "            \n",
    "    \"\"\"\n",
    "    \n",
    "    ## Check if company name/ticker exists. \n",
    "    if stock_ticker2name(company) or stock_name2ticker(company):\n",
    "        ticker = stock_ticker2name(company) or stock_name2ticker(company)\n",
    "    else:\n",
    "        print('This company does not exist.')\n",
    "        return\n",
    "    \n",
    "    ## Get data from the API\n",
    "    data_size = kwargs.get('data_size', 1000)\n",
    "    data_columns = kwargs.get('data_columns', [0, 1, 2, 3, 4, 5, 8]) # date + time + ohlcv\n",
    "    time_interval = kwargs.get('time_interval', 'D')\n",
    "    \n",
    "    instStockChart.SetInputValue(0, ticker) # 0.종목코드\n",
    "    instStockChart.SetInputValue(1, ord('2')) # 1.기간/요청설정 = {1: 기간으로 요청, 2: 개수로 요청}\n",
    "    instStockChart.SetInputValue(2, end_date) # 2.가장최근날짜\n",
    "    instStockChart.SetInputValue(4, data_size) # 4.요청개수설정\n",
    "    instStockChart.SetInputValue(5, data_columns) # 5.데이터 column들 \n",
    "    instStockChart.SetInputValue(6, ord(time_interval)) # 6.시간간격\n",
    "    instStockChart.SetInputValue(9, ord('1')) # 9.수정주가 = {0: 무수정주가, 1: 수정주가}\n",
    "    \n",
    "    instStockChart.BlockRequest()\n",
    "    \n",
    "    if verbose:\n",
    "        print(\"\"\"\n",
    "        Header information\n",
    "\n",
    "        Ticker: {ticker}\n",
    "        Name: {name}\n",
    "        Field names: {field_names}\n",
    "        Data count: {data_count}\n",
    "        \"\"\".format(\n",
    "            ticker=instStockChart.GetHeaderValue(0),\n",
    "            name=stock_ticker2name(instStockChart.GetHeaderValue(0)),\n",
    "            field_names=instStockChart.GetHeaderValue(2),\n",
    "            data_count=instStockChart.GetHeaderValue(3),\n",
    "        ))\n",
    "    \n",
    "    ## Create a dataframe from the retrieved data. \n",
    "    df_diclist = []\n",
    "    \n",
    "    data_count = instStockChart.GetHeaderValue(3)\n",
    "    fields_count = instStockChart.GetHeaderValue(1)\n",
    "    \n",
    "    for i in range(data_count):\n",
    "        row_dic = {}\n",
    "        for idx, column_code in enumerate(data_columns):\n",
    "            row_dic[data_columns_cipher[column_code]] = instStockChart.GetDataValue(idx, i)\n",
    "\n",
    "        df_diclist.append(row_dic)\n",
    "        \n",
    "    df = pd.DataFrame(df_diclist)\n",
    "    \n",
    "    df.date = pd.to_datetime(df.date, format='%Y%m%d')\n",
    "    \n",
    "    try:\n",
    "        df.time = pd.to_datetime(df.time, format='%H%M').dt.time\n",
    "        df.loc[:, 'datetime'] = pd.to_datetime(df.date.astype(str) + ' ' + df.time.astype(str))\n",
    "        df.drop(['date', 'time'], axis=1, inplace=True)\n",
    "    except:\n",
    "        df.drop('time', axis=1, inplace=True)\n",
    "        df.rename(columns={'date':'datetime'}, inplace=True)\n",
    "    df = df.set_index('datetime')\n",
    "    \n",
    "    return df\n",
    "    "
   ]
  },
  {
   "cell_type": "code",
   "execution_count": 133,
   "metadata": {},
   "outputs": [
    {
     "name": "stdout",
     "output_type": "stream",
     "text": [
      "\n",
      "        Header information\n",
      "\n",
      "        Ticker: A005930\n",
      "        Name: 삼성전자\n",
      "        Field names: ('날짜', '시간', '시가', '고가', '저가', '종가', '거래량')\n",
      "        Data count: 1000\n",
      "        \n"
     ]
    },
    {
     "data": {
      "text/html": [
       "<div>\n",
       "<style scoped>\n",
       "    .dataframe tbody tr th:only-of-type {\n",
       "        vertical-align: middle;\n",
       "    }\n",
       "\n",
       "    .dataframe tbody tr th {\n",
       "        vertical-align: top;\n",
       "    }\n",
       "\n",
       "    .dataframe thead th {\n",
       "        text-align: right;\n",
       "    }\n",
       "</style>\n",
       "<table border=\"1\" class=\"dataframe\">\n",
       "  <thead>\n",
       "    <tr style=\"text-align: right;\">\n",
       "      <th></th>\n",
       "      <th>open</th>\n",
       "      <th>high</th>\n",
       "      <th>low</th>\n",
       "      <th>close</th>\n",
       "      <th>volume</th>\n",
       "    </tr>\n",
       "    <tr>\n",
       "      <th>datetime</th>\n",
       "      <th></th>\n",
       "      <th></th>\n",
       "      <th></th>\n",
       "      <th></th>\n",
       "      <th></th>\n",
       "    </tr>\n",
       "  </thead>\n",
       "  <tbody>\n",
       "    <tr>\n",
       "      <th>2020-04-03 15:30:00</th>\n",
       "      <td>47000</td>\n",
       "      <td>47000</td>\n",
       "      <td>47000</td>\n",
       "      <td>47000</td>\n",
       "      <td>936202</td>\n",
       "    </tr>\n",
       "    <tr>\n",
       "      <th>2020-04-03 15:20:00</th>\n",
       "      <td>47150</td>\n",
       "      <td>47200</td>\n",
       "      <td>47100</td>\n",
       "      <td>47100</td>\n",
       "      <td>52827</td>\n",
       "    </tr>\n",
       "    <tr>\n",
       "      <th>2020-04-03 15:19:00</th>\n",
       "      <td>47250</td>\n",
       "      <td>47250</td>\n",
       "      <td>47150</td>\n",
       "      <td>47200</td>\n",
       "      <td>47378</td>\n",
       "    </tr>\n",
       "    <tr>\n",
       "      <th>2020-04-03 15:18:00</th>\n",
       "      <td>47250</td>\n",
       "      <td>47250</td>\n",
       "      <td>47200</td>\n",
       "      <td>47200</td>\n",
       "      <td>35707</td>\n",
       "    </tr>\n",
       "    <tr>\n",
       "      <th>2020-04-03 15:17:00</th>\n",
       "      <td>47250</td>\n",
       "      <td>47250</td>\n",
       "      <td>47200</td>\n",
       "      <td>47250</td>\n",
       "      <td>26788</td>\n",
       "    </tr>\n",
       "    <tr>\n",
       "      <th>...</th>\n",
       "      <td>...</td>\n",
       "      <td>...</td>\n",
       "      <td>...</td>\n",
       "      <td>...</td>\n",
       "      <td>...</td>\n",
       "    </tr>\n",
       "    <tr>\n",
       "      <th>2020-04-01 11:28:00</th>\n",
       "      <td>47550</td>\n",
       "      <td>47600</td>\n",
       "      <td>47500</td>\n",
       "      <td>47550</td>\n",
       "      <td>96625</td>\n",
       "    </tr>\n",
       "    <tr>\n",
       "      <th>2020-04-01 11:27:00</th>\n",
       "      <td>47550</td>\n",
       "      <td>47600</td>\n",
       "      <td>47550</td>\n",
       "      <td>47550</td>\n",
       "      <td>13334</td>\n",
       "    </tr>\n",
       "    <tr>\n",
       "      <th>2020-04-01 11:26:00</th>\n",
       "      <td>47550</td>\n",
       "      <td>47600</td>\n",
       "      <td>47500</td>\n",
       "      <td>47550</td>\n",
       "      <td>41556</td>\n",
       "    </tr>\n",
       "    <tr>\n",
       "      <th>2020-04-01 11:25:00</th>\n",
       "      <td>47550</td>\n",
       "      <td>47600</td>\n",
       "      <td>47500</td>\n",
       "      <td>47550</td>\n",
       "      <td>59593</td>\n",
       "    </tr>\n",
       "    <tr>\n",
       "      <th>2020-04-01 11:24:00</th>\n",
       "      <td>47600</td>\n",
       "      <td>47650</td>\n",
       "      <td>47550</td>\n",
       "      <td>47550</td>\n",
       "      <td>60475</td>\n",
       "    </tr>\n",
       "  </tbody>\n",
       "</table>\n",
       "<p>1000 rows × 5 columns</p>\n",
       "</div>"
      ],
      "text/plain": [
       "                      open   high    low  close  volume\n",
       "datetime                                               \n",
       "2020-04-03 15:30:00  47000  47000  47000  47000  936202\n",
       "2020-04-03 15:20:00  47150  47200  47100  47100   52827\n",
       "2020-04-03 15:19:00  47250  47250  47150  47200   47378\n",
       "2020-04-03 15:18:00  47250  47250  47200  47200   35707\n",
       "2020-04-03 15:17:00  47250  47250  47200  47250   26788\n",
       "...                    ...    ...    ...    ...     ...\n",
       "2020-04-01 11:28:00  47550  47600  47500  47550   96625\n",
       "2020-04-01 11:27:00  47550  47600  47550  47550   13334\n",
       "2020-04-01 11:26:00  47550  47600  47500  47550   41556\n",
       "2020-04-01 11:25:00  47550  47600  47500  47550   59593\n",
       "2020-04-01 11:24:00  47600  47650  47550  47550   60475\n",
       "\n",
       "[1000 rows x 5 columns]"
      ]
     },
     "execution_count": 133,
     "metadata": {},
     "output_type": "execute_result"
    }
   ],
   "source": [
    "get_ohlcv('삼성전자', verbose=True, time_interval='m')"
   ]
  },
  {
   "cell_type": "code",
   "execution_count": null,
   "metadata": {},
   "outputs": [],
   "source": []
  }
 ],
 "metadata": {
  "kernelspec": {
   "display_name": "Python 3",
   "language": "python",
   "name": "python3"
  },
  "language_info": {
   "codemirror_mode": {
    "name": "ipython",
    "version": 3
   },
   "file_extension": ".py",
   "mimetype": "text/x-python",
   "name": "python",
   "nbconvert_exporter": "python",
   "pygments_lexer": "ipython3",
   "version": "3.7.7"
  }
 },
 "nbformat": 4,
 "nbformat_minor": 4
}
